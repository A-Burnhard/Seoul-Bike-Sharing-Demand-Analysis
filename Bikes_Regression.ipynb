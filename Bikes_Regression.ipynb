{
  "nbformat": 4,
  "nbformat_minor": 0,
  "metadata": {
    "colab": {
      "provenance": [],
      "authorship_tag": "ABX9TyN77hd+xxQnkfMpJ6lT7mp4",
      "include_colab_link": true
    },
    "kernelspec": {
      "name": "python3",
      "display_name": "Python 3"
    },
    "language_info": {
      "name": "python"
    }
  },
  "cells": [
    {
      "cell_type": "markdown",
      "metadata": {
        "id": "view-in-github",
        "colab_type": "text"
      },
      "source": [
        "<a href=\"https://colab.research.google.com/github/A-Burnhard/Seoul-Bike-Sharing-Demand-Analysis/blob/main/Bikes_Regression.ipynb\" target=\"_parent\"><img src=\"https://colab.research.google.com/assets/colab-badge.svg\" alt=\"Open In Colab\"/></a>"
      ]
    },
    {
      "cell_type": "code",
      "execution_count": 1,
      "metadata": {
        "id": "zw1AKT-TB3E2"
      },
      "outputs": [],
      "source": [
        "import numpy as np\n",
        "import pandas as pd\n",
        "from google.colab import drive\n",
        "import matplotlib.pyplot as plt\n",
        "from sklearn.preprocessing import StandardScaler\n",
        "from imblearn.over_sampling import RandomOverSampler\n",
        "import copy\n",
        "import seaborn as sns\n",
        "import tensorflow as tf\n",
        "from sklearn.linear_model import LinearRegression"
      ]
    },
    {
      "cell_type": "markdown",
      "source": [
        "**Dataset**\n",
        "\n",
        "Dua, D. and Graff, C. (2019). UCI Machine Learning Repository [http://archive.ics.uci.edu/ml]. Irvine, CA: University of California, School of Information and Computer Science.\n",
        "\n",
        "Source:\n",
        "\n",
        "Data Source :http://data.seoul.go.kr/\n",
        "SOUTH KOREA PUBLIC HOLIDAYS. URL: publicholidays.go.kr"
      ],
      "metadata": {
        "id": "Qn43-qG0EFsB"
      }
    },
    {
      "cell_type": "code",
      "source": [
        "drive.mount('/content/drive')\n",
        "file_path = '/content/drive/MyDrive//Machine Learning/SeoulBikeData.csv'\n"
      ],
      "metadata": {
        "id": "KJ2IxFbAFHz3"
      },
      "execution_count": null,
      "outputs": []
    },
    {
      "cell_type": "code",
      "source": [
        "dataset_cols =   dataset_cols = [\"bike_count\", \"hour\", \"temp\", \"humidity\", \"wind\", \"visibility\", \"dew_pt_temp\", \"radiation\", \"rain\", \"snow\", \"functional\"]\n",
        "df = pd.read_csv(file_path,names=dataset_cols).drop([\"Date\", \"Holiday\", \"Seasons\"], axis=1)"
      ],
      "metadata": {
        "id": "jr68tCRIE6lV"
      },
      "execution_count": null,
      "outputs": []
    }
  ]
}