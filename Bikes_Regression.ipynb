{
  "nbformat": 4,
  "nbformat_minor": 0,
  "metadata": {
    "colab": {
      "provenance": [],
      "authorship_tag": "ABX9TyNS/fF//DVzwVe3Pi7l7NaT",
      "include_colab_link": true
    },
    "kernelspec": {
      "name": "python3",
      "display_name": "Python 3"
    },
    "language_info": {
      "name": "python"
    }
  },
  "cells": [
    {
      "cell_type": "markdown",
      "metadata": {
        "id": "view-in-github",
        "colab_type": "text"
      },
      "source": [
        "<a href=\"https://colab.research.google.com/github/A-Burnhard/Seoul-Bike-Sharing-Demand-Analysis/blob/main/Bikes_Regression.ipynb\" target=\"_parent\"><img src=\"https://colab.research.google.com/assets/colab-badge.svg\" alt=\"Open In Colab\"/></a>"
      ]
    },
    {
      "cell_type": "code",
      "execution_count": 53,
      "metadata": {
        "id": "zw1AKT-TB3E2"
      },
      "outputs": [],
      "source": [
        "import numpy as np\n",
        "import pandas as pd\n",
        "from google.colab import drive\n",
        "import matplotlib.pyplot as plt\n",
        "from sklearn.preprocessing import StandardScaler\n",
        "from imblearn.over_sampling import RandomOverSampler\n",
        "import copy\n",
        "import seaborn as sns\n",
        "import tensorflow as tf\n",
        "from sklearn.linear_model import LinearRegression"
      ]
    },
    {
      "cell_type": "markdown",
      "source": [
        "**Dataset**\n",
        "\n",
        "Dua, D. and Graff, C. (2019). UCI Machine Learning Repository [http://archive.ics.uci.edu/ml]. Irvine, CA: University of California, School of Information and Computer Science.\n",
        "\n",
        "Source:\n",
        "\n",
        "Data Source :http://data.seoul.go.kr/\n",
        "SOUTH KOREA PUBLIC HOLIDAYS. URL: publicholidays.go.kr"
      ],
      "metadata": {
        "id": "Qn43-qG0EFsB"
      }
    },
    {
      "cell_type": "code",
      "source": [
        "drive.mount('/content/drive')\n",
        "file_path = '/content/drive/MyDrive//Machine Learning/SeoulBikeData.csv'\n"
      ],
      "metadata": {
        "id": "KJ2IxFbAFHz3"
      },
      "execution_count": null,
      "outputs": []
    },
    {
      "cell_type": "code",
      "source": [
        "dataset_cols = [\"bike_count\", \"hour\", \"temp\", \"humidity\", \"wind\", \"visibility\", \"dew_pt_temp\", \"radiation\", \"rain\", \"snow\", \"functional\"]\n",
        "df = pd.read_csv(file_path,encoding='ISO-8859-1').drop([\"Date\", \"Holiday\", \"Seasons\"], axis=1)\n"
      ],
      "metadata": {
        "id": "63wX0ITbTEN8"
      },
      "execution_count": 30,
      "outputs": []
    },
    {
      "cell_type": "code",
      "source": [
        "df.columns = dataset_cols\n",
        "df[\"functional\"] = (df[\"functional\"] == 'Yes').astype(int)\n",
        "df = df.drop([\"hour\"], axis=1)"
      ],
      "metadata": {
        "id": "jr68tCRIE6lV"
      },
      "execution_count": 35,
      "outputs": []
    },
    {
      "cell_type": "code",
      "source": [
        "df = df.drop([\"wind\", \"visibility\", \"functional\"], axis=1)"
      ],
      "metadata": {
        "id": "8vCQQDrUisVf"
      },
      "execution_count": null,
      "outputs": []
    },
    {
      "cell_type": "code",
      "source": [
        "for label in df.columns[1:]:\n",
        "  plt.scatter(df[label], df[\"bike_count\"])\n",
        "  plt.title(label)\n",
        "  plt.ylabel(\"Bike Count at Noon\")\n",
        "  plt.xlabel(label)\n",
        "  plt.show()"
      ],
      "metadata": {
        "id": "JvDrCudjjnz3"
      },
      "execution_count": null,
      "outputs": []
    },
    {
      "cell_type": "markdown",
      "source": [
        "# Train/Valid/test dataset"
      ],
      "metadata": {
        "id": "6RZ7XeXhmaBd"
      }
    },
    {
      "cell_type": "code",
      "source": [
        "train, val, test = np.split(df.sample(frac=1), [int(0.6*len(df)), int(0.8*len(df))])"
      ],
      "metadata": {
        "id": "crJbi3EKme2-"
      },
      "execution_count": 52,
      "outputs": []
    },
    {
      "cell_type": "code",
      "source": [
        "def get_xy(dataframe, y_label, x_labels=None):\n",
        "  dataframe = copy.deepcopy(dataframe)\n",
        "  if x_labels is None:\n",
        "    X = dataframe[[c for c in dataframe.columns if c!=y_label]].values\n",
        "  else:\n",
        "    if len(x_labels) == 1:\n",
        "      X = dataframe[x_labels[0]].values.reshape(-1, 1)\n",
        "    else:\n",
        "      X = dataframe[x_labels].values\n",
        "\n",
        "  y = dataframe[y_label].values.reshape(-1, 1)\n",
        "  data = np.hstack((X, y))\n",
        "\n",
        "  return data, X, y"
      ],
      "metadata": {
        "id": "clzVRFO9kIDo"
      },
      "execution_count": 47,
      "outputs": []
    },
    {
      "cell_type": "code",
      "source": [
        "_, X_train_temp, y_train_temp = get_xy(train, \"bike_count\", x_labels=[\"temp\"])\n",
        "_, X_val_temp, y_val_temp = get_xy(val, \"bike_count\", x_labels=[\"temp\"])\n",
        "_, X_test_temp, y_test_temp = get_xy(test, \"bike_count\", x_labels=[\"temp\"])"
      ],
      "metadata": {
        "id": "opCJHIebuVNp"
      },
      "execution_count": 54,
      "outputs": []
    },
    {
      "cell_type": "code",
      "source": [
        "temp_reg = LinearRegression()\n",
        "temp_reg.fit(X_train_temp, y_train_temp)"
      ],
      "metadata": {
        "id": "WQtcpPK7vCEO"
      },
      "execution_count": null,
      "outputs": []
    },
    {
      "cell_type": "code",
      "source": [
        "temp_reg.score(X_test_temp, y_test_temp)"
      ],
      "metadata": {
        "id": "OpsLsKBdvFdb"
      },
      "execution_count": null,
      "outputs": []
    }
  ]
}