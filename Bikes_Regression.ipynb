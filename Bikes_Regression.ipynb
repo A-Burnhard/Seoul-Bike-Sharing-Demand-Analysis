{
  "nbformat": 4,
  "nbformat_minor": 0,
  "metadata": {
    "colab": {
      "provenance": [],
      "authorship_tag": "ABX9TyPzavEZztdJLyKm8mkChdce",
      "include_colab_link": true
    },
    "kernelspec": {
      "name": "python3",
      "display_name": "Python 3"
    },
    "language_info": {
      "name": "python"
    }
  },
  "cells": [
    {
      "cell_type": "markdown",
      "metadata": {
        "id": "view-in-github",
        "colab_type": "text"
      },
      "source": [
        "<a href=\"https://colab.research.google.com/github/A-Burnhard/Seoul-Bike-Sharing-Demand-Analysis/blob/main/Bikes_Regression.ipynb\" target=\"_parent\"><img src=\"https://colab.research.google.com/assets/colab-badge.svg\" alt=\"Open In Colab\"/></a>"
      ]
    },
    {
      "cell_type": "code",
      "execution_count": 53,
      "metadata": {
        "id": "zw1AKT-TB3E2"
      },
      "outputs": [],
      "source": [
        "import numpy as np\n",
        "import pandas as pd\n",
        "from google.colab import drive\n",
        "import matplotlib.pyplot as plt\n",
        "from sklearn.preprocessing import StandardScaler\n",
        "from imblearn.over_sampling import RandomOverSampler\n",
        "import copy\n",
        "import seaborn as sns\n",
        "import tensorflow as tf\n",
        "from sklearn.linear_model import LinearRegression"
      ]
    },
    {
      "cell_type": "markdown",
      "source": [
        "**Dataset**\n",
        "\n",
        "Dua, D. and Graff, C. (2019). UCI Machine Learning Repository [http://archive.ics.uci.edu/ml]. Irvine, CA: University of California, School of Information and Computer Science.\n",
        "\n",
        "Source:\n",
        "\n",
        "Data Source :http://data.seoul.go.kr/\n",
        "SOUTH KOREA PUBLIC HOLIDAYS. URL: publicholidays.go.kr"
      ],
      "metadata": {
        "id": "Qn43-qG0EFsB"
      }
    },
    {
      "cell_type": "code",
      "source": [
        "drive.mount('/content/drive')\n",
        "file_path = '/content/drive/MyDrive//Machine Learning/SeoulBikeData.csv'\n"
      ],
      "metadata": {
        "id": "KJ2IxFbAFHz3"
      },
      "execution_count": null,
      "outputs": []
    },
    {
      "cell_type": "code",
      "source": [
        "dataset_cols = [\"bike_count\", \"hour\", \"temp\", \"humidity\", \"wind\", \"visibility\", \"dew_pt_temp\", \"radiation\", \"rain\", \"snow\", \"functional\"]\n",
        "df = pd.read_csv(file_path,encoding='ISO-8859-1').drop([\"Date\", \"Holiday\", \"Seasons\"], axis=1)\n"
      ],
      "metadata": {
        "id": "63wX0ITbTEN8"
      },
      "execution_count": 30,
      "outputs": []
    },
    {
      "cell_type": "code",
      "source": [
        "df.columns = dataset_cols\n",
        "df[\"functional\"] = (df[\"functional\"] == 'Yes').astype(int)\n",
        "df = df.drop([\"hour\"], axis=1)"
      ],
      "metadata": {
        "id": "jr68tCRIE6lV"
      },
      "execution_count": 35,
      "outputs": []
    },
    {
      "cell_type": "code",
      "source": [
        "df = df.drop([\"wind\", \"visibility\", \"functional\"], axis=1)"
      ],
      "metadata": {
        "id": "8vCQQDrUisVf"
      },
      "execution_count": null,
      "outputs": []
    },
    {
      "cell_type": "code",
      "source": [
        "for label in df.columns[1:]:\n",
        "  plt.scatter(df[label], df[\"bike_count\"])\n",
        "  plt.title(label)\n",
        "  plt.ylabel(\"Bike Count at Noon\")\n",
        "  plt.xlabel(label)\n",
        "  plt.show()"
      ],
      "metadata": {
        "id": "JvDrCudjjnz3"
      },
      "execution_count": null,
      "outputs": []
    },
    {
      "cell_type": "markdown",
      "source": [
        "# Train/Valid/test dataset"
      ],
      "metadata": {
        "id": "6RZ7XeXhmaBd"
      }
    },
    {
      "cell_type": "code",
      "source": [
        "train, val, test = np.split(df.sample(frac=1), [int(0.6*len(df)), int(0.8*len(df))])"
      ],
      "metadata": {
        "id": "crJbi3EKme2-"
      },
      "execution_count": 52,
      "outputs": []
    },
    {
      "cell_type": "code",
      "source": [
        "def get_xy(dataframe, y_label, x_labels=None):\n",
        "  dataframe = copy.deepcopy(dataframe)\n",
        "  if x_labels is None:\n",
        "    X = dataframe[[c for c in dataframe.columns if c!=y_label]].values\n",
        "  else:\n",
        "    if len(x_labels) == 1:\n",
        "      X = dataframe[x_labels[0]].values.reshape(-1, 1)\n",
        "    else:\n",
        "      X = dataframe[x_labels].values\n",
        "\n",
        "  y = dataframe[y_label].values.reshape(-1, 1)\n",
        "  data = np.hstack((X, y))\n",
        "\n",
        "  return data, X, y"
      ],
      "metadata": {
        "id": "clzVRFO9kIDo"
      },
      "execution_count": 47,
      "outputs": []
    },
    {
      "cell_type": "code",
      "source": [
        "_, X_train_temp, y_train_temp = get_xy(train, \"bike_count\", x_labels=[\"temp\"])\n",
        "_, X_val_temp, y_val_temp = get_xy(val, \"bike_count\", x_labels=[\"temp\"])\n",
        "_, X_test_temp, y_test_temp = get_xy(test, \"bike_count\", x_labels=[\"temp\"])"
      ],
      "metadata": {
        "id": "opCJHIebuVNp"
      },
      "execution_count": 54,
      "outputs": []
    },
    {
      "cell_type": "code",
      "source": [
        "temp_reg = LinearRegression()\n",
        "temp_reg.fit(X_train_temp, y_train_temp)"
      ],
      "metadata": {
        "id": "WQtcpPK7vCEO"
      },
      "execution_count": null,
      "outputs": []
    },
    {
      "cell_type": "code",
      "source": [
        "temp_reg.score(X_test_temp, y_test_temp)"
      ],
      "metadata": {
        "id": "OpsLsKBdvFdb"
      },
      "execution_count": null,
      "outputs": []
    },
    {
      "cell_type": "code",
      "source": [
        "plt.scatter(X_train_temp, y_train_temp, label=\"Data\", color=\"blue\")\n",
        "x = tf.linspace(-20, 40, 100)\n",
        "plt.plot(x, temp_reg.predict(np.array(x).reshape(-1, 1)), label=\"Fit\", color=\"red\", linewidth=3)\n",
        "plt.legend()\n",
        "plt.title(\"Bikes vs Temp\")\n",
        "plt.ylabel(\"Number of bikes\")\n",
        "plt.xlabel(\"Temp\")\n",
        "plt.show()"
      ],
      "metadata": {
        "colab": {
          "base_uri": "https://localhost:8080/",
          "height": 472
        },
        "id": "TUo68ZPawAHt",
        "outputId": "0a66db8a-c8fe-4e56-fb98-c20501d86b1b"
      },
      "execution_count": 57,
      "outputs": [
        {
          "output_type": "display_data",
          "data": {
            "text/plain": [
              "<Figure size 640x480 with 1 Axes>"
            ],
            "image/png": "[encoded data removed]"
          },
          "metadata": {}
        }
      ]
    },
    {
      "cell_type": "markdown",
      "source": [
        "# Multiple Linear Regression"
      ],
      "metadata": {
        "id": "KaUH269IwX6m"
      }
    },
    {
      "cell_type": "code",
      "source": [
        "train, val, test = np.split(df.sample(frac=1), [int(0.6*len(df)), int(0.8*len(df))])\n",
        "_, X_train_all, y_train_all = get_xy(train, \"bike_count\", x_labels=df.columns[1:])\n",
        "_, X_val_all, y_val_all = get_xy(val, \"bike_count\", x_labels=df.columns[1:])\n",
        "_, X_test_all, y_test_all = get_xy(test, \"bike_count\", x_labels=df.columns[1:])"
      ],
      "metadata": {
        "id": "US72ZcDawZSi"
      },
      "execution_count": 58,
      "outputs": []
    },
    {
      "cell_type": "code",
      "source": [
        "all_reg = LinearRegression()\n",
        "all_reg.fit(X_train_all, y_train_all)"
      ],
      "metadata": {
        "id": "IB3l3f3kx6Ym"
      },
      "execution_count": null,
      "outputs": []
    },
    {
      "cell_type": "code",
      "source": [
        "all_reg.score(X_test_all, y_test_all)"
      ],
      "metadata": {
        "colab": {
          "base_uri": "https://localhost:8080/"
        },
        "id": "k9XxuIZjx9GP",
        "outputId": "2a4de76e-35ab-43bd-b3a3-fdccfad2b01d"
      },
      "execution_count": 60,
      "outputs": [
        {
          "output_type": "execute_result",
          "data": {
            "text/plain": [
              "0.369074665519608"
            ]
          },
          "metadata": {},
          "execution_count": 60
        }
      ]
    },
    {
      "cell_type": "code",
      "source": [
        "y_pred_lr = all_reg.predict(X_test_all)"
      ],
      "metadata": {
        "id": "-YRIVxF5yXuL"
      },
      "execution_count": 73,
      "outputs": []
    },
    {
      "cell_type": "markdown",
      "source": [
        "# Regression with Neural Net"
      ],
      "metadata": {
        "id": "GaSdMbLc0Q6P"
      }
    },
    {
      "cell_type": "code",
      "source": [
        "def plot_loss(history):\n",
        "  plt.plot(history.history['loss'], label='loss')\n",
        "  plt.plot(history.history['val_loss'], label='val_loss')\n",
        "  plt.xlabel('Epoch')\n",
        "  plt.ylabel('MSE')\n",
        "  plt.legend()\n",
        "  plt.grid(True)\n",
        "  plt.show()"
      ],
      "metadata": {
        "id": "QINsfLOI0SmQ"
      },
      "execution_count": 62,
      "outputs": []
    },
    {
      "cell_type": "code",
      "source": [
        "temp_normalizer = tf.keras.layers.Normalization(input_shape=(1,), axis=None)\n",
        "temp_normalizer.adapt(X_train_temp.reshape(-1))"
      ],
      "metadata": {
        "id": "J7QmhRnU0heB"
      },
      "execution_count": 63,
      "outputs": []
    },
    {
      "cell_type": "code",
      "source": [
        "temp_nn_model = tf.keras.Sequential([\n",
        "    temp_normalizer,\n",
        "    tf.keras.layers.Dense(1)\n",
        "])"
      ],
      "metadata": {
        "id": "P6-XjHjC0icN"
      },
      "execution_count": 64,
      "outputs": []
    },
    {
      "cell_type": "code",
      "source": [
        "temp_nn_model.compile(optimizer=tf.keras.optimizers.Adam(learning_rate=0.1), loss='mean_squared_error')"
      ],
      "metadata": {
        "id": "qS2YH3SL0moE"
      },
      "execution_count": 65,
      "outputs": []
    },
    {
      "cell_type": "code",
      "source": [
        "history = temp_nn_model.fit(\n",
        "    X_train_temp.reshape(-1), y_train_temp,\n",
        "    verbose=0,\n",
        "    epochs=1000,\n",
        "    validation_data=(X_val_temp, y_val_temp)\n",
        ")"
      ],
      "metadata": {
        "id": "06TWcZFS06KW"
      },
      "execution_count": 66,
      "outputs": []
    },
    {
      "cell_type": "code",
      "source": [
        "plot_loss(history)"
      ],
      "metadata": {
        "id": "gN8GNytD1AFn"
      },
      "execution_count": null,
      "outputs": []
    },
    {
      "cell_type": "code",
      "source": [
        "plt.scatter(X_train_temp, y_train_temp, label=\"Data\", color=\"blue\")\n",
        "x = tf.linspace(-20, 40, 100)\n",
        "plt.plot(x, temp_nn_model.predict(np.array(x).reshape(-1, 1)), label=\"Fit\", color=\"red\", linewidth=3)\n",
        "plt.legend()\n",
        "plt.title(\"Bikes vs Temp\")\n",
        "plt.ylabel(\"Number of bikes\")\n",
        "plt.xlabel(\"Temp\")\n",
        "plt.show()"
      ],
      "metadata": {
        "id": "JA3WFPsu1yvG"
      },
      "execution_count": null,
      "outputs": []
    },
    {
      "cell_type": "markdown",
      "source": [
        "# Neural Net"
      ],
      "metadata": {
        "id": "rWr4mPE612Yx"
      }
    },
    {
      "cell_type": "code",
      "source": [
        "temp_normalizer = tf.keras.layers.Normalization(input_shape=(1,), axis=None)\n",
        "temp_normalizer.adapt(X_train_temp.reshape(-1))\n",
        "\n",
        "nn_model = tf.keras.Sequential([\n",
        "    temp_normalizer,\n",
        "    tf.keras.layers.Dense(32, activation='relu'),\n",
        "    tf.keras.layers.Dense(32, activation='relu'),\n",
        "    tf.keras.layers.Dense(32, activation='relu'),\n",
        "    tf.keras.layers.Dense(1)\n",
        "])\n",
        "nn_model.compile(optimizer=tf.keras.optimizers.Adam(learning_rate=0.001), loss='mean_squared_error')"
      ],
      "metadata": {
        "id": "lJVD1_iE1-xL"
      },
      "execution_count": 67,
      "outputs": []
    },
    {
      "cell_type": "code",
      "source": [
        "history = nn_model.fit(\n",
        "    X_train_temp, y_train_temp,\n",
        "    validation_data=(X_val_temp, y_val_temp),\n",
        "    verbose=0, epochs=100\n",
        ")\n"
      ],
      "metadata": {
        "id": "pEc24BCE1zsm"
      },
      "execution_count": 68,
      "outputs": []
    },
    {
      "cell_type": "code",
      "source": [
        "plot_loss(history)"
      ],
      "metadata": {
        "id": "N6pwcX422FBa"
      },
      "execution_count": null,
      "outputs": []
    },
    {
      "cell_type": "code",
      "source": [
        "plt.scatter(X_train_temp, y_train_temp, label=\"Data\", color=\"blue\")\n",
        "x = tf.linspace(-20, 40, 100)\n",
        "plt.plot(x, nn_model.predict(np.array(x).reshape(-1, 1)), label=\"Fit\", color=\"red\", linewidth=3)\n",
        "plt.legend()\n",
        "plt.title(\"Bikes vs Temp\")\n",
        "plt.ylabel(\"Number of bikes\")\n",
        "plt.xlabel(\"Temp\")\n",
        "plt.show()"
      ],
      "metadata": {
        "id": "MrS33Gf62JKB"
      },
      "execution_count": null,
      "outputs": []
    },
    {
      "cell_type": "code",
      "source": [
        "# calculate the MSE for both linear reg and nn\n",
        "y_pred_lr = all_reg.predict(X_test_all)\n",
        "y_pred_nn = nn_model.predict(X_test_all)"
      ],
      "metadata": {
        "id": "QkLy8D5h3NjY"
      },
      "execution_count": null,
      "outputs": []
    },
    {
      "cell_type": "code",
      "source": [
        "def MSE(y_pred, y_real):\n",
        "  return (np.square(y_pred - y_real)).mean()"
      ],
      "metadata": {
        "id": "tgIrbr1q3Rpt"
      },
      "execution_count": 77,
      "outputs": []
    },
    {
      "cell_type": "code",
      "source": [
        "MSE(y_pred_lr, y_test_all)"
      ],
      "metadata": {
        "colab": {
          "base_uri": "https://localhost:8080/"
        },
        "id": "tHyigBKb3V0h",
        "outputId": "adb2ac87-0e58-44f2-e39e-7ba87908a4a0"
      },
      "execution_count": 78,
      "outputs": [
        {
          "output_type": "execute_result",
          "data": {
            "text/plain": [
              "257871.5359259055"
            ]
          },
          "metadata": {},
          "execution_count": 78
        }
      ]
    },
    {
      "cell_type": "code",
      "source": [
        "MSE(y_pred_nn, y_test_all)"
      ],
      "metadata": {
        "colab": {
          "base_uri": "https://localhost:8080/",
          "height": 209
        },
        "id": "9ETZIUK03aTv",
        "outputId": "19172dfc-cb04-4fa6-e23a-d150df01bed9"
      },
      "execution_count": 81,
      "outputs": [
        {
          "output_type": "error",
          "ename": "NameError",
          "evalue": "ignored",
          "traceback": [
            "\u001b[0;31m---------------------------------------------------------------------------\u001b[0m",
            "\u001b[0;31mNameError\u001b[0m                                 Traceback (most recent call last)",
            "\u001b[0;32m<ipython-input-81-f1de9008c961>\u001b[0m in \u001b[0;36m<cell line: 1>\u001b[0;34m()\u001b[0m\n\u001b[0;32m----> 1\u001b[0;31m \u001b[0mMSE\u001b[0m\u001b[0;34m(\u001b[0m\u001b[0my_pred_nn\u001b[0m\u001b[0;34m,\u001b[0m \u001b[0my_test_all\u001b[0m\u001b[0;34m)\u001b[0m\u001b[0;34m\u001b[0m\u001b[0;34m\u001b[0m\u001b[0m\n\u001b[0m",
            "\u001b[0;31mNameError\u001b[0m: name 'y_pred_nn' is not defined"
          ]
        }
      ]
    },
    {
      "cell_type": "code",
      "source": [
        "ax = plt.axes(aspect=\"equal\")\n",
        "plt.scatter(y_test_all, y_pred_lr, label=\"Lin Reg Preds\")\n",
        "plt.scatter(y_test_all, y_pred_nn, label=\"NN Preds\")\n",
        "plt.xlabel(\"True Values\")\n",
        "plt.ylabel(\"Predictions\")\n",
        "lims = [0, 1800]\n",
        "plt.xlim(lims)\n",
        "plt.ylim(lims)\n",
        "plt.legend()\n",
        "_ = plt.plot(lims, lims, c=\"red\")"
      ],
      "metadata": {
        "id": "CtVU3e2R3bIe"
      },
      "execution_count": null,
      "outputs": []
    }
  ]
}